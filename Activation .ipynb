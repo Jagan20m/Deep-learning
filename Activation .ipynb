{
 "cells": [
  {
   "cell_type": "markdown",
   "id": "24d8b48d",
   "metadata": {},
   "source": [
    "#### Binary Function"
   ]
  },
  {
   "cell_type": "code",
   "execution_count": 1,
   "id": "9a593c29",
   "metadata": {},
   "outputs": [],
   "source": [
    "def binary_step(x):\n",
    "    if x<0:\n",
    "        return 0\n",
    "    else:return 1"
   ]
  },
  {
   "cell_type": "code",
   "execution_count": 5,
   "id": "4168071b",
   "metadata": {},
   "outputs": [
    {
     "data": {
      "text/plain": [
       "1"
      ]
     },
     "execution_count": 5,
     "metadata": {},
     "output_type": "execute_result"
    }
   ],
   "source": [
    "binary_step(10)"
   ]
  },
  {
   "cell_type": "code",
   "execution_count": 6,
   "id": "6bc5bcc9",
   "metadata": {},
   "outputs": [
    {
     "data": {
      "text/plain": [
       "0"
      ]
     },
     "execution_count": 6,
     "metadata": {},
     "output_type": "execute_result"
    }
   ],
   "source": [
    "binary_step(-1)"
   ]
  },
  {
   "cell_type": "markdown",
   "id": "29703ac5",
   "metadata": {},
   "source": [
    "#### Linear Function"
   ]
  },
  {
   "cell_type": "code",
   "execution_count": 8,
   "id": "0523fdf4",
   "metadata": {},
   "outputs": [],
   "source": [
    "def linear_function(x):\n",
    "    return 3*x"
   ]
  },
  {
   "cell_type": "code",
   "execution_count": 11,
   "id": "e33fca8a",
   "metadata": {},
   "outputs": [
    {
     "data": {
      "text/plain": [
       "30"
      ]
     },
     "execution_count": 11,
     "metadata": {},
     "output_type": "execute_result"
    }
   ],
   "source": [
    "linear_function(10)"
   ]
  },
  {
   "cell_type": "code",
   "execution_count": 12,
   "id": "cd369606",
   "metadata": {},
   "outputs": [
    {
     "data": {
      "text/plain": [
       "-30"
      ]
     },
     "execution_count": 12,
     "metadata": {},
     "output_type": "execute_result"
    }
   ],
   "source": [
    "linear_function(-10)"
   ]
  },
  {
   "cell_type": "markdown",
   "id": "e969801a",
   "metadata": {},
   "source": [
    "#### Sigmoid Function"
   ]
  },
  {
   "cell_type": "code",
   "execution_count": 16,
   "id": "656868e8",
   "metadata": {},
   "outputs": [],
   "source": [
    "import numpy as np\n",
    "def sigmoid_function(x):\n",
    "    z=(1/(1+np.exp(-x)))\n",
    "    return z"
   ]
  },
  {
   "cell_type": "code",
   "execution_count": 17,
   "id": "30f2eba6",
   "metadata": {},
   "outputs": [
    {
     "data": {
      "text/plain": [
       "0.8807970779778823"
      ]
     },
     "execution_count": 17,
     "metadata": {},
     "output_type": "execute_result"
    }
   ],
   "source": [
    "sigmoid_function(2)"
   ]
  },
  {
   "cell_type": "code",
   "execution_count": 18,
   "id": "c39d842d",
   "metadata": {},
   "outputs": [
    {
     "data": {
      "text/plain": [
       "0.11920292202211755"
      ]
     },
     "execution_count": 18,
     "metadata": {},
     "output_type": "execute_result"
    }
   ],
   "source": [
    "sigmoid_function(-2)"
   ]
  },
  {
   "cell_type": "markdown",
   "id": "e78a461a",
   "metadata": {},
   "source": [
    "#### Tanh"
   ]
  },
  {
   "cell_type": "code",
   "execution_count": 21,
   "id": "d83e4340",
   "metadata": {},
   "outputs": [],
   "source": [
    "def tanh_function(x):\n",
    "    z=(2/(1+np.exp(-2*x)))-1\n",
    "    return z"
   ]
  },
  {
   "cell_type": "code",
   "execution_count": 22,
   "id": "9ed18727",
   "metadata": {},
   "outputs": [
    {
     "data": {
      "text/plain": [
       "1.0"
      ]
     },
     "execution_count": 22,
     "metadata": {},
     "output_type": "execute_result"
    }
   ],
   "source": [
    "tanh_function(22.7)"
   ]
  },
  {
   "cell_type": "code",
   "execution_count": 23,
   "id": "837112ec",
   "metadata": {},
   "outputs": [
    {
     "data": {
      "text/plain": [
       "-1.0"
      ]
     },
     "execution_count": 23,
     "metadata": {},
     "output_type": "execute_result"
    }
   ],
   "source": [
    "tanh_function(-155.7)"
   ]
  },
  {
   "cell_type": "markdown",
   "id": "c374112a",
   "metadata": {},
   "source": [
    "#### ReLU"
   ]
  },
  {
   "cell_type": "code",
   "execution_count": 24,
   "id": "40f848ab",
   "metadata": {},
   "outputs": [],
   "source": [
    "def relu_function(x):\n",
    "    if x<0:\n",
    "        return 0\n",
    "    else:\n",
    "        return x"
   ]
  },
  {
   "cell_type": "code",
   "execution_count": 25,
   "id": "677e0f77",
   "metadata": {},
   "outputs": [
    {
     "data": {
      "text/plain": [
       "10"
      ]
     },
     "execution_count": 25,
     "metadata": {},
     "output_type": "execute_result"
    }
   ],
   "source": [
    "relu_function(10)"
   ]
  },
  {
   "cell_type": "code",
   "execution_count": 26,
   "id": "9821c032",
   "metadata": {},
   "outputs": [
    {
     "data": {
      "text/plain": [
       "0"
      ]
     },
     "execution_count": 26,
     "metadata": {},
     "output_type": "execute_result"
    }
   ],
   "source": [
    "relu_function(-10)"
   ]
  },
  {
   "cell_type": "markdown",
   "id": "29576720",
   "metadata": {},
   "source": [
    "#### Leaky ReLu"
   ]
  },
  {
   "cell_type": "code",
   "execution_count": 30,
   "id": "925de528",
   "metadata": {},
   "outputs": [],
   "source": [
    "def leaky_relu_function(x):\n",
    "    if x<0:\n",
    "        return 0.01*x\n",
    "    else:\n",
    "        return x"
   ]
  },
  {
   "cell_type": "code",
   "execution_count": 31,
   "id": "7d832fdc",
   "metadata": {},
   "outputs": [
    {
     "data": {
      "text/plain": [
       "10"
      ]
     },
     "execution_count": 31,
     "metadata": {},
     "output_type": "execute_result"
    }
   ],
   "source": [
    "leaky_relu_function(10)"
   ]
  },
  {
   "cell_type": "code",
   "execution_count": 32,
   "id": "b2154c4f",
   "metadata": {},
   "outputs": [
    {
     "data": {
      "text/plain": [
       "-0.01"
      ]
     },
     "execution_count": 32,
     "metadata": {},
     "output_type": "execute_result"
    }
   ],
   "source": [
    "leaky_relu_function(-1)"
   ]
  },
  {
   "cell_type": "markdown",
   "id": "bf982b7e",
   "metadata": {},
   "source": [
    "#### ELU"
   ]
  },
  {
   "cell_type": "code",
   "execution_count": 37,
   "id": "bb20e8bb",
   "metadata": {},
   "outputs": [],
   "source": [
    "def elu_function(x,a):\n",
    "    if x<0:\n",
    "        return a*(np.exp(x)-1)\n",
    "    else:\n",
    "        return x"
   ]
  },
  {
   "cell_type": "code",
   "execution_count": 34,
   "id": "77736ff6",
   "metadata": {},
   "outputs": [
    {
     "data": {
      "text/plain": [
       "10"
      ]
     },
     "execution_count": 34,
     "metadata": {},
     "output_type": "execute_result"
    }
   ],
   "source": [
    "elu_function(10)"
   ]
  },
  {
   "cell_type": "code",
   "execution_count": 39,
   "id": "c8485381",
   "metadata": {},
   "outputs": [
    {
     "data": {
      "text/plain": [
       "-0.09816843611112658"
      ]
     },
     "execution_count": 39,
     "metadata": {},
     "output_type": "execute_result"
    }
   ],
   "source": [
    "elu_function(-4,0.1)"
   ]
  },
  {
   "cell_type": "markdown",
   "id": "d91356b4",
   "metadata": {},
   "source": [
    "#### Swish"
   ]
  },
  {
   "cell_type": "code",
   "execution_count": 40,
   "id": "103bbbd1",
   "metadata": {},
   "outputs": [],
   "source": [
    "def swish_function(x):\n",
    "    return x/(1-np.exp(-x))"
   ]
  },
  {
   "cell_type": "code",
   "execution_count": 41,
   "id": "5f32eeb1",
   "metadata": {},
   "outputs": [
    {
     "data": {
      "text/plain": [
       "1.0025115553818576e-23"
      ]
     },
     "execution_count": 41,
     "metadata": {},
     "output_type": "execute_result"
    }
   ],
   "source": [
    "swish_function(-57)"
   ]
  },
  {
   "cell_type": "markdown",
   "id": "386b8d1e",
   "metadata": {},
   "source": [
    "#### Soft max"
   ]
  },
  {
   "cell_type": "code",
   "execution_count": 44,
   "id": "34e34737",
   "metadata": {},
   "outputs": [],
   "source": [
    "def soft_max_func(x):\n",
    "    z=np.exp(x)\n",
    "    z_=z/z.sum()\n",
    "    return z_"
   ]
  },
  {
   "cell_type": "code",
   "execution_count": 45,
   "id": "2cb879e0",
   "metadata": {},
   "outputs": [
    {
     "data": {
      "text/plain": [
       "array([0.65900114, 0.24243297, 0.09856589])"
      ]
     },
     "execution_count": 45,
     "metadata": {},
     "output_type": "execute_result"
    }
   ],
   "source": [
    "soft_max_func([2.0,1.0,0.1])"
   ]
  },
  {
   "cell_type": "code",
   "execution_count": null,
   "id": "f7529ca2",
   "metadata": {},
   "outputs": [],
   "source": []
  }
 ],
 "metadata": {
  "kernelspec": {
   "display_name": "Python 3 (ipykernel)",
   "language": "python",
   "name": "python3"
  },
  "language_info": {
   "codemirror_mode": {
    "name": "ipython",
    "version": 3
   },
   "file_extension": ".py",
   "mimetype": "text/x-python",
   "name": "python",
   "nbconvert_exporter": "python",
   "pygments_lexer": "ipython3",
   "version": "3.10.9"
  }
 },
 "nbformat": 4,
 "nbformat_minor": 5
}
